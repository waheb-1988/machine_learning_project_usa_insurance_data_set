{
 "cells": [
  {
   "cell_type": "markdown",
   "metadata": {},
   "source": [
    "## Exploratory Data Analysis (EDA)"
   ]
  },
  {
   "cell_type": "markdown",
   "metadata": {},
   "source": [
    "### Business Context:\n",
    "This dataset likely pertains to health insurance, specifically modeling or predicting insurance charges. The goal of such a predictive model would be to estimate the insurance cost (charges) for individuals based on their demographic and health-related attributes. This could be useful for:\n",
    "\n",
    "- **Insurance Premium Calculation:** Insurance companies could use this model to determine premiums for customers by predicting potential healthcare costs.\n",
    "- **Risk Assessment:** Identifying high-risk individuals (e.g., smokers with high BMI) who might incur higher medical expenses.\n",
    "- **Customer Segmentation:** Segmenting customers based on age, region, and lifestyle factors to tailor insurance products.\n",
    "- **Policy Design:** Designing customized health insurance plans by understanding how different factors affect medical costs.\n",
    "- **Marketing Strategy:** Targeted marketing for different customer groups, e.g., promoting health programs to high-BMI or smoker groups to reduce future costs.\n"
   ]
  },
  {
   "cell_type": "markdown",
   "metadata": {},
   "source": [
    "### Packages and Libraries"
   ]
  },
  {
   "cell_type": "code",
   "execution_count": 12,
   "metadata": {},
   "outputs": [],
   "source": [
    "import pandas as pd \n",
    "import pathlib\n",
    "import os\n",
    "import seaborn as sns\n",
    "import matplotlib.pyplot as plt\n",
    "from scipy.stats import pearsonr\n",
    "import numpy as np\n",
    "from sklearn.preprocessing import LabelEncoder"
   ]
  },
  {
   "cell_type": "markdown",
   "metadata": {},
   "source": [
    "### Read data"
   ]
  },
  {
   "cell_type": "code",
   "execution_count": 14,
   "metadata": {},
   "outputs": [
    {
     "name": "stdout",
     "output_type": "stream",
     "text": [
      "c:\\Abdelouaheb\\perso\\Data_science_2024_projects\\2025\\machine_learning_project_usa_insurance_data_set\n",
      "c:\\Abdelouaheb\\perso\\Data_science_2024_projects\\2025\\machine_learning_project_usa_insurance_data_set\\data\n"
     ]
    },
    {
     "data": {
      "text/html": [
       "<div>\n",
       "<style scoped>\n",
       "    .dataframe tbody tr th:only-of-type {\n",
       "        vertical-align: middle;\n",
       "    }\n",
       "\n",
       "    .dataframe tbody tr th {\n",
       "        vertical-align: top;\n",
       "    }\n",
       "\n",
       "    .dataframe thead th {\n",
       "        text-align: right;\n",
       "    }\n",
       "</style>\n",
       "<table border=\"1\" class=\"dataframe\">\n",
       "  <thead>\n",
       "    <tr style=\"text-align: right;\">\n",
       "      <th></th>\n",
       "      <th>age</th>\n",
       "      <th>sex</th>\n",
       "      <th>bmi</th>\n",
       "      <th>children</th>\n",
       "      <th>smoker</th>\n",
       "      <th>region</th>\n",
       "      <th>charges</th>\n",
       "    </tr>\n",
       "  </thead>\n",
       "  <tbody>\n",
       "    <tr>\n",
       "      <th>0</th>\n",
       "      <td>19</td>\n",
       "      <td>female</td>\n",
       "      <td>27.900</td>\n",
       "      <td>0</td>\n",
       "      <td>yes</td>\n",
       "      <td>southwest</td>\n",
       "      <td>16884.92400</td>\n",
       "    </tr>\n",
       "    <tr>\n",
       "      <th>1</th>\n",
       "      <td>18</td>\n",
       "      <td>male</td>\n",
       "      <td>33.770</td>\n",
       "      <td>1</td>\n",
       "      <td>no</td>\n",
       "      <td>southeast</td>\n",
       "      <td>1725.55230</td>\n",
       "    </tr>\n",
       "    <tr>\n",
       "      <th>2</th>\n",
       "      <td>28</td>\n",
       "      <td>male</td>\n",
       "      <td>33.000</td>\n",
       "      <td>3</td>\n",
       "      <td>no</td>\n",
       "      <td>southeast</td>\n",
       "      <td>4449.46200</td>\n",
       "    </tr>\n",
       "    <tr>\n",
       "      <th>3</th>\n",
       "      <td>33</td>\n",
       "      <td>male</td>\n",
       "      <td>22.705</td>\n",
       "      <td>0</td>\n",
       "      <td>no</td>\n",
       "      <td>northwest</td>\n",
       "      <td>21984.47061</td>\n",
       "    </tr>\n",
       "    <tr>\n",
       "      <th>4</th>\n",
       "      <td>32</td>\n",
       "      <td>male</td>\n",
       "      <td>28.880</td>\n",
       "      <td>0</td>\n",
       "      <td>no</td>\n",
       "      <td>northwest</td>\n",
       "      <td>3866.85520</td>\n",
       "    </tr>\n",
       "  </tbody>\n",
       "</table>\n",
       "</div>"
      ],
      "text/plain": [
       "   age     sex     bmi  children smoker     region      charges\n",
       "0   19  female  27.900         0    yes  southwest  16884.92400\n",
       "1   18    male  33.770         1     no  southeast   1725.55230\n",
       "2   28    male  33.000         3     no  southeast   4449.46200\n",
       "3   33    male  22.705         0     no  northwest  21984.47061\n",
       "4   32    male  28.880         0     no  northwest   3866.85520"
      ]
     },
     "execution_count": 14,
     "metadata": {},
     "output_type": "execute_result"
    }
   ],
   "source": [
    "def read_file(file_name : str )  -> pd.DataFrame:\n",
    "    \"\"\"\n",
    "    summary\n",
    "    \"\"\"\n",
    "    try:\n",
    "        dir_folder = pathlib.Path().cwd().parent\n",
    "        print(dir_folder)\n",
    "        file_path  = dir_folder / \"data\" \n",
    "        print(file_path)\n",
    "        df = pd.read_csv(os.path.join(file_path/file_name))\n",
    "        return df\n",
    "    except FileNotFoundError:\n",
    "        print(f\"Error: The file at '{file_name}' was not found.\")\n",
    "        raise\n",
    "    except Exception as e:\n",
    "         print(f\"An error occurred: {e}\")\n",
    "        \n",
    "        \n",
    "        \n",
    "df = read_file('insurance.csv')      \n",
    "  \n",
    "df.head()   \n",
    "\n",
    "\n",
    "\n"
   ]
  },
  {
   "cell_type": "markdown",
   "metadata": {},
   "source": [
    "### Data structure"
   ]
  },
  {
   "cell_type": "code",
   "execution_count": 3,
   "metadata": {},
   "outputs": [],
   "source": [
    "def data_diagnostic(df):\n",
    "        print(\"#\"*50)\n",
    "        print(df.info())\n",
    "        print(\"#\"*50)\n",
    "        print(\"The number of total rows  {x: .0f} \".format(x=df.shape[0]))\n",
    "        print(\"The number of total variables {x: .0f} \".format(x=df.shape[1]))\n",
    "        print(\"The variables names {x:} \".format(x=list(df.columns.values)))\n",
    "\n",
    "        column_headers =list(df.columns.values)\n",
    "        qualitative_columns = [col for col in column_headers if df[col].dtype==\"object\"]\n",
    "        quantitative_columns = [col for col in column_headers if df[col].dtype in ['int64', 'float64']]\n",
    "\n",
    "        print(\"The qualitative variables {x:} \".format(x=qualitative_columns))\n",
    "        print(\"The quantitative variables {x:} \".format(x=quantitative_columns))\n",
    "        print(\"#\"*50)\n",
    "        print(\"Total number missing value {x:} \".format(x=df.isnull().sum()))"
   ]
  },
  {
   "cell_type": "code",
   "execution_count": 4,
   "metadata": {},
   "outputs": [
    {
     "name": "stdout",
     "output_type": "stream",
     "text": [
      "##################################################\n",
      "<class 'pandas.core.frame.DataFrame'>\n",
      "RangeIndex: 1338 entries, 0 to 1337\n",
      "Data columns (total 7 columns):\n",
      " #   Column    Non-Null Count  Dtype  \n",
      "---  ------    --------------  -----  \n",
      " 0   age       1338 non-null   int64  \n",
      " 1   sex       1338 non-null   object \n",
      " 2   bmi       1338 non-null   float64\n",
      " 3   children  1338 non-null   int64  \n",
      " 4   smoker    1338 non-null   object \n",
      " 5   region    1338 non-null   object \n",
      " 6   charges   1338 non-null   float64\n",
      "dtypes: float64(2), int64(2), object(3)\n",
      "memory usage: 73.3+ KB\n",
      "None\n",
      "##################################################\n",
      "The number of total rows   1338 \n",
      "The number of total variables  7 \n",
      "The variables names ['age', 'sex', 'bmi', 'children', 'smoker', 'region', 'charges'] \n",
      "The qualitative variables ['sex', 'smoker', 'region'] \n",
      "The quantitative variables ['age', 'bmi', 'children', 'charges'] \n",
      "##################################################\n",
      "Total number missing value age         0\n",
      "sex         0\n",
      "bmi         0\n",
      "children    0\n",
      "smoker      0\n",
      "region      0\n",
      "charges     0\n",
      "dtype: int64 \n"
     ]
    }
   ],
   "source": [
    "data_diagnostic(df)"
   ]
  },
  {
   "cell_type": "markdown",
   "metadata": {},
   "source": [
    "### Analyse univary"
   ]
  },
  {
   "cell_type": "markdown",
   "metadata": {},
   "source": [
    "#### Numerical varaiables"
   ]
  },
  {
   "cell_type": "code",
   "execution_count": 5,
   "metadata": {},
   "outputs": [],
   "source": [
    "def numeric_analysis(df):\n",
    "        \n",
    "    \n",
    "        return print(df.describe().T)"
   ]
  },
  {
   "cell_type": "code",
   "execution_count": 6,
   "metadata": {},
   "outputs": [
    {
     "name": "stdout",
     "output_type": "stream",
     "text": [
      "           count          mean           std        min         25%       50%  \\\n",
      "age       1338.0     39.207025     14.049960    18.0000    27.00000    39.000   \n",
      "bmi       1338.0     30.663397      6.098187    15.9600    26.29625    30.400   \n",
      "children  1338.0      1.094918      1.205493     0.0000     0.00000     1.000   \n",
      "charges   1338.0  13270.422265  12110.011237  1121.8739  4740.28715  9382.033   \n",
      "\n",
      "                   75%          max  \n",
      "age          51.000000     64.00000  \n",
      "bmi          34.693750     53.13000  \n",
      "children      2.000000      5.00000  \n",
      "charges   16639.912515  63770.42801  \n"
     ]
    }
   ],
   "source": [
    "numeric_analysis(df)\n"
   ]
  },
  {
   "cell_type": "markdown",
   "metadata": {},
   "source": [
    "#### Numerical varaiables visualization"
   ]
  },
  {
   "cell_type": "code",
   "execution_count": 7,
   "metadata": {},
   "outputs": [],
   "source": [
    "def univariate_analysis(df, base_folder=\"univariate_analysis\"):\n",
    "        # Ensure the base folder exists\n",
    "        if not os.path.exists(base_folder):\n",
    "            os.makedirs(base_folder)\n",
    "        \n",
    "        # Select numeric columns\n",
    "        numeric_cols = df.select_dtypes(include=['number']).columns\n",
    "        \n",
    "        for col in numeric_cols:\n",
    "            # Create a folder for the analysis\n",
    "            col_folder = os.path.join(base_folder, col)\n",
    "            if not os.path.exists(col_folder):\n",
    "                os.makedirs(col_folder)\n",
    "            \n",
    "            print(f\"\\nPerforming Univariate Analysis for: {col}\")\n",
    "            \n",
    "            # Create a single figure with 2x2 layout\n",
    "            fig, axes = plt.subplots(2, 2, figsize=(12, 10))\n",
    "            fig.suptitle(f'Univariate Analysis for {col}', fontsize=16)\n",
    "            \n",
    "            # Bar Chart\n",
    "            sns.barplot(\n",
    "                x=df[col].value_counts().index, \n",
    "                y=df[col].value_counts().values, \n",
    "                palette=\"viridis\", \n",
    "                ax=axes[0, 0]\n",
    "            )\n",
    "            axes[0, 0].set_title('Bar Chart')\n",
    "            axes[0, 0].set_xlabel(col)\n",
    "            axes[0, 0].set_ylabel('Frequency')\n",
    "            \n",
    "            # Box Plot\n",
    "            sns.boxplot(y=df[col], palette=\"viridis\", ax=axes[0, 1])\n",
    "            axes[0, 1].set_title('Box Plot')\n",
    "            axes[0, 1].set_xlabel(col)\n",
    "            \n",
    "            # Density Plot\n",
    "            sns.kdeplot(df[col], fill=True, color=\"blue\", alpha=0.6, ax=axes[1, 0])\n",
    "            axes[1, 0].set_title('Density Plot')\n",
    "            axes[1, 0].set_xlabel(col)\n",
    "            axes[1, 0].set_ylabel('Density')\n",
    "            \n",
    "            # Histogram\n",
    "            sns.histplot(df[col], kde=False, color=\"green\", ax=axes[1, 1])\n",
    "            axes[1, 1].set_title('Histogram')\n",
    "            axes[1, 1].set_xlabel(col)\n",
    "            axes[1, 1].set_ylabel('Frequency')\n",
    "            \n",
    "            # Adjust layout\n",
    "            plt.tight_layout(rect=[0, 0, 1, 0.96])  # Make room for the main title\n",
    "            \n",
    "            # Save the combined plot\n",
    "            combined_plot_path = os.path.join(col_folder, f\"{col}_univariate_analysis.png\")\n",
    "            plt.savefig(combined_plot_path, bbox_inches='tight')\n",
    "            plt.close()\n",
    "            \n",
    "            print(f\"Combined plots for {col} saved in: {combined_plot_path}\")"
   ]
  },
  {
   "cell_type": "code",
   "execution_count": 8,
   "metadata": {},
   "outputs": [
    {
     "name": "stdout",
     "output_type": "stream",
     "text": [
      "\n",
      "Performing Univariate Analysis for: age\n",
      "Combined plots for age saved in: univariate_analysis\\age\\age_univariate_analysis.png\n",
      "\n",
      "Performing Univariate Analysis for: bmi\n",
      "Combined plots for bmi saved in: univariate_analysis\\bmi\\bmi_univariate_analysis.png\n",
      "\n",
      "Performing Univariate Analysis for: children\n",
      "Combined plots for children saved in: univariate_analysis\\children\\children_univariate_analysis.png\n",
      "\n",
      "Performing Univariate Analysis for: charges\n",
      "Combined plots for charges saved in: univariate_analysis\\charges\\charges_univariate_analysis.png\n"
     ]
    }
   ],
   "source": [
    "univariate_analysis(df, base_folder=\"univariate_analysis\")"
   ]
  },
  {
   "cell_type": "markdown",
   "metadata": {},
   "source": [
    "#### Categorical varaiables"
   ]
  },
  {
   "cell_type": "code",
   "execution_count": 9,
   "metadata": {},
   "outputs": [],
   "source": [
    "def categorical_analysis(df):\n",
    "    return print(df.select_dtypes(include='object').describe().T)"
   ]
  },
  {
   "cell_type": "code",
   "execution_count": 10,
   "metadata": {},
   "outputs": [
    {
     "name": "stdout",
     "output_type": "stream",
     "text": [
      "       count unique        top  freq\n",
      "sex     1338      2       male   676\n",
      "smoker  1338      2         no  1064\n",
      "region  1338      4  southeast   364\n"
     ]
    }
   ],
   "source": [
    "categorical_analysis(df)"
   ]
  },
  {
   "cell_type": "markdown",
   "metadata": {},
   "source": [
    "#### Categorical varaiables visualization"
   ]
  },
  {
   "cell_type": "code",
   "execution_count": 11,
   "metadata": {},
   "outputs": [],
   "source": [
    "def univariate_analysis_categorical(df, base_folder=\"univariate_analysis_categorical\"):\n",
    "    # Ensure the base folder exists\n",
    "    if not os.path.exists(base_folder):\n",
    "        os.makedirs(base_folder)\n",
    "    \n",
    "    # Select categorical columns\n",
    "    categorical_cols = df.select_dtypes(include=['object', 'category']).columns\n",
    "    \n",
    "    for col in categorical_cols:\n",
    "        # Create a folder for the analysis\n",
    "        col_folder = os.path.join(base_folder, col)\n",
    "        if not os.path.exists(col_folder):\n",
    "            os.makedirs(col_folder)\n",
    "        \n",
    "        print(f\"\\nPerforming Univariate Analysis for: {col}\")\n",
    "        \n",
    "        # Create a figure with 1x2 layout\n",
    "        fig, axes = plt.subplots(1, 2, figsize=(15, 6))\n",
    "        fig.suptitle(f'Univariate Analysis for {col}', fontsize=16)\n",
    "        \n",
    "        # Bar Plot\n",
    "        sns.countplot(x=df[col], palette=\"viridis\", ax=axes[0])\n",
    "        axes[0].set_title('Count Plot')\n",
    "        axes[0].set_xlabel(col)\n",
    "        axes[0].set_ylabel('Frequency')\n",
    "        axes[0].tick_params(axis='x', rotation=45)\n",
    "        \n",
    "        # Pie Chart\n",
    "        df[col].value_counts().plot.pie(\n",
    "            autopct='%1.1f%%', \n",
    "            colors=sns.color_palette(\"viridis\", len(df[col].unique())), \n",
    "            ax=axes[1], \n",
    "            startangle=90\n",
    "        )\n",
    "        axes[1].set_title('Pie Chart')\n",
    "        axes[1].set_ylabel('')  # Remove y-label for better visualization\n",
    "        \n",
    "        # Adjust layout\n",
    "        plt.tight_layout(rect=[0, 0, 1, 0.96])  # Make room for the main title\n",
    "        \n",
    "        # Save the combined plot\n",
    "        combined_plot_path = os.path.join(col_folder, f\"{col}_univariate_analysis.png\")\n",
    "        plt.savefig(combined_plot_path, bbox_inches='tight')\n",
    "        plt.close()\n",
    "        \n",
    "        print(f\"Combined plots for {col} saved in: {combined_plot_path}\")\n"
   ]
  },
  {
   "cell_type": "code",
   "execution_count": 12,
   "metadata": {},
   "outputs": [
    {
     "name": "stdout",
     "output_type": "stream",
     "text": [
      "\n",
      "Performing Univariate Analysis for: sex\n",
      "Combined plots for sex saved in: univariate_analysis_categorical\\sex\\sex_univariate_analysis.png\n",
      "\n",
      "Performing Univariate Analysis for: smoker\n",
      "Combined plots for smoker saved in: univariate_analysis_categorical\\smoker\\smoker_univariate_analysis.png\n",
      "\n",
      "Performing Univariate Analysis for: region\n",
      "Combined plots for region saved in: univariate_analysis_categorical\\region\\region_univariate_analysis.png\n"
     ]
    }
   ],
   "source": [
    "univariate_analysis_categorical(df, base_folder=\"univariate_analysis_categorical\")"
   ]
  },
  {
   "cell_type": "markdown",
   "metadata": {},
   "source": [
    "### Multyvarie Analysis"
   ]
  },
  {
   "cell_type": "code",
   "execution_count": 13,
   "metadata": {},
   "outputs": [],
   "source": [
    "target = 'charges'"
   ]
  },
  {
   "cell_type": "code",
   "execution_count": 14,
   "metadata": {},
   "outputs": [],
   "source": [
    "def multivariate_analysis(target, df, base_folder=\"multivariate_analysis\"):\n",
    "    \"\"\"\n",
    "    Performs multivariate analysis with respect to the target variable.\n",
    "    Outputs:\n",
    "        - Categorical vs Target: Histograms with Density Curves separately by modality.\n",
    "        - Numeric vs Target: Scatter plots with Density Curves separately by modality.\n",
    "    \n",
    "    Parameters:\n",
    "        df (pd.DataFrame): The DataFrame to analyze.\n",
    "        target (str): The target variable for comparison.\n",
    "        base_folder (str): Directory to save the analysis images.\n",
    "    \"\"\"\n",
    "    # Ensure the base folder exists\n",
    "    if not os.path.exists(base_folder):\n",
    "        os.makedirs(base_folder)\n",
    "    \n",
    "    # --- Categorical vs Target ---\n",
    "    cat_vs_target_folder = os.path.join(base_folder, \"categorical_vs_target\")\n",
    "    if not os.path.exists(cat_vs_target_folder):\n",
    "        os.makedirs(cat_vs_target_folder)\n",
    "    \n",
    "    # Select categorical columns\n",
    "    categorical_cols = df.select_dtypes(include=['object', 'category']).columns\n",
    "    \n",
    "    for col in categorical_cols:\n",
    "        if col != target:  # Skip the target itself\n",
    "            print(f\"\\nAnalyzing Categorical vs Target: {target} vs {col}\")\n",
    "            \n",
    "            # Create a grid of histograms by modality of the categorical variable\n",
    "            modalities = df[col].unique()\n",
    "            n_modalities = len(modalities)\n",
    "            fig, axes = plt.subplots(1, n_modalities, figsize=(6 * n_modalities, 6), sharey=True)\n",
    "            \n",
    "            if n_modalities == 1:\n",
    "                axes = [axes]  # To handle single modality case\n",
    "            \n",
    "            for i, modality in enumerate(modalities):\n",
    "                subset = df[df[col] == modality]\n",
    "                sns.histplot(\n",
    "                    subset[target], kde=True, ax=axes[i], alpha=0.6, color='skyblue'\n",
    "                )\n",
    "                axes[i].set_title(f'{col} = {modality}')\n",
    "                axes[i].set_xlabel(target)\n",
    "                axes[i].set_ylabel('Frequency')\n",
    "            \n",
    "            plt.suptitle(f'{target} Distribution by {col} (Separate by Modality)', fontsize=16)\n",
    "            plt.tight_layout(rect=[0, 0, 1, 0.96])  # Adjust layout for main title\n",
    "            \n",
    "            # Save plot\n",
    "            plot_path = os.path.join(cat_vs_target_folder, f\"{target}_vs_{col}.png\")\n",
    "            plt.savefig(plot_path, bbox_inches='tight')\n",
    "            plt.close()\n",
    "            \n",
    "            print(f\"Categorical vs Target (Histograms) saved in: {plot_path}\")\n",
    "    \n",
    "    # --- Numeric vs Target ---\n",
    "    num_vs_target_folder = os.path.join(base_folder, \"numeric_vs_target\")\n",
    "    if not os.path.exists(num_vs_target_folder):\n",
    "        os.makedirs(num_vs_target_folder)\n",
    "    \n",
    "    # Select numeric columns\n",
    "    numeric_cols = df.select_dtypes(include=['number']).columns\n",
    "    \n",
    "    for col in numeric_cols:\n",
    "        if col != target:  # Skip the target itself\n",
    "            print(f\"\\nAnalyzing Numeric vs Target: {target} vs {col}\")\n",
    "            \n",
    "            # Create a grid of scatter plots by modality of the target variable\n",
    "            modalities = df[target].unique()\n",
    "            n_modalities = len(modalities)\n",
    "            fig, axes = plt.subplots(1, n_modalities, figsize=(6 * n_modalities, 6), sharey=True)\n",
    "            \n",
    "            if n_modalities == 1:\n",
    "                axes = [axes]  # To handle single modality case\n",
    "            \n",
    "            for i, modality in enumerate(modalities):\n",
    "                subset = df[df[target] == modality]\n",
    "                sns.scatterplot(\n",
    "                    x=target, y=col, data=subset, ax=axes[i], alpha=0.6, color='purple'\n",
    "                )\n",
    "                sns.kdeplot(\n",
    "                    data=subset, x=target, y=col, ax=axes[i], color=\"red\", levels=5, linewidths=1\n",
    "                )\n",
    "                axes[i].set_title(f'{target} = {modality}')\n",
    "                axes[i].set_xlabel(target)\n",
    "                axes[i].set_ylabel(col)\n",
    "            \n",
    "            plt.suptitle(f'{target} vs {col} (Scatter + Density by Modality)', fontsize=16)\n",
    "            plt.tight_layout(rect=[0, 0, 1, 0.96])  # Adjust layout for main title\n",
    "            \n",
    "            # Save plot\n",
    "            plot_path = os.path.join(num_vs_target_folder, f\"{target}_vs_{col}.png\")\n",
    "            plt.savefig(plot_path, bbox_inches='tight')\n",
    "            plt.close()\n",
    "            \n",
    "            print(f\"Numeric vs Target (Scatter + Density) saved in: {plot_path}\")\n"
   ]
  },
  {
   "cell_type": "code",
   "execution_count": null,
   "metadata": {},
   "outputs": [],
   "source": [
    "multivariate_analysis(target,df,base_folder=\"multivariate_analysis\")"
   ]
  },
  {
   "cell_type": "markdown",
   "metadata": {},
   "source": [
    "### Multyvarie Analysis exp\n",
    "\n",
    "### 3. Distribution Analysis:\n",
    "- Both panels show a **right-skewed distribution** (long tail to the right), indicating that most people have lower charges, with fewer people having very high charges.  \n",
    "- The **peak (mode)** is in the lower `charges` range for both sexes, suggesting most people fall within this category.  \n",
    "\n",
    "### 4. Density Curves:\n",
    "- The **blue density curve** overlaid on the histograms provides a smoother view of the distribution.  \n",
    "- It confirms the right-skewed pattern and shows that the distribution tails off as `charges` increase.  \n",
    "\n",
    "### 5. Comparative Observations:\n",
    "- The overall shape of the distributions for both sexes is quite similar, but:  \n",
    "  - **Male (Right Panel):** Appears to have a slightly wider spread, with more instances of higher `charges` compared to females.  \n",
    "  - **Female (Left Panel):** Has a sharper drop-off after the peak, indicating fewer high `charges` occurrences.  \n",
    "\n",
    "### 6. Key Insights:\n",
    "- Both males and females are most likely to have lower charges, but males have a slightly higher probability of incurring larger charges.  \n",
    "- The tails in both distributions suggest the presence of outliers or a minority with significantly higher charges.  "
   ]
  },
  {
   "cell_type": "markdown",
   "metadata": {},
   "source": [
    "### Multyvarie Analysis advanced"
   ]
  },
  {
   "cell_type": "code",
   "execution_count": 16,
   "metadata": {},
   "outputs": [],
   "source": [
    "def scatter_plot_combinations(target, df, base_folder=\"scatter_combinations\"):\n",
    "    \"\"\"\n",
    "    Generates scatter plots for all possible combinations between the target variable,\n",
    "    one categorical variable, and one numerical variable.\n",
    "    Outputs:\n",
    "        - Scatter plots showing the relationship between target and numerical variable,\n",
    "          colored by the categories of the categorical variable.\n",
    "    \n",
    "    Parameters:\n",
    "        df (pd.DataFrame): The DataFrame to analyze.\n",
    "        target (str): The target variable for comparison.\n",
    "        base_folder (str): Directory to save the scatter plots.\n",
    "    \"\"\"\n",
    "    # Ensure the base folder exists\n",
    "    if not os.path.exists(base_folder):\n",
    "        os.makedirs(base_folder)\n",
    "    \n",
    "    # Select categorical and numeric columns\n",
    "    categorical_cols = df.select_dtypes(include=['object', 'category']).columns\n",
    "    numeric_cols = df.select_dtypes(include=['number']).columns\n",
    "    \n",
    "    # Iterate through all combinations of categorical and numerical variables\n",
    "    for cat_col in categorical_cols:\n",
    "        if cat_col != target:  # Skip the target itself\n",
    "            for num_col in numeric_cols:\n",
    "                if num_col != target:  # Skip the target itself\n",
    "                    print(f\"\\nCreating Scatter Plot: Target={target}, Categorical={cat_col}, Numerical={num_col}\")\n",
    "                    \n",
    "                    # Plot\n",
    "                    plt.figure(figsize=(10, 6))\n",
    "                    sns.scatterplot(\n",
    "                        x=num_col, \n",
    "                        y=target, \n",
    "                        hue=cat_col, \n",
    "                        data=df, \n",
    "                        palette=\"viridis\", \n",
    "                        alpha=0.6\n",
    "                    )\n",
    "                    plt.title(f'{target} vs {num_col} by {cat_col}')\n",
    "                    plt.xlabel(num_col)\n",
    "                    plt.ylabel(target)\n",
    "                    plt.legend(title=cat_col)\n",
    "                    \n",
    "                    # Save plot\n",
    "                    plot_folder = os.path.join(base_folder, f\"{target}_vs_{num_col}_by_{cat_col}\")\n",
    "                    if not os.path.exists(plot_folder):\n",
    "                        os.makedirs(plot_folder)\n",
    "                    plot_path = os.path.join(plot_folder, f\"{target}_vs_{num_col}_by_{cat_col}.png\")\n",
    "                    plt.savefig(plot_path, bbox_inches='tight')\n",
    "                    plt.close()\n",
    "                    \n",
    "                    print(f\"Scatter Plot saved in: {plot_path}\")\n"
   ]
  },
  {
   "cell_type": "code",
   "execution_count": 17,
   "metadata": {},
   "outputs": [
    {
     "name": "stdout",
     "output_type": "stream",
     "text": [
      "\n",
      "Creating Scatter Plot: Target=charges, Categorical=sex, Numerical=age\n",
      "Scatter Plot saved in: scatter_combinations\\charges_vs_age_by_sex\\charges_vs_age_by_sex.png\n",
      "\n",
      "Creating Scatter Plot: Target=charges, Categorical=sex, Numerical=bmi\n",
      "Scatter Plot saved in: scatter_combinations\\charges_vs_bmi_by_sex\\charges_vs_bmi_by_sex.png\n",
      "\n",
      "Creating Scatter Plot: Target=charges, Categorical=sex, Numerical=children\n",
      "Scatter Plot saved in: scatter_combinations\\charges_vs_children_by_sex\\charges_vs_children_by_sex.png\n",
      "\n",
      "Creating Scatter Plot: Target=charges, Categorical=smoker, Numerical=age\n",
      "Scatter Plot saved in: scatter_combinations\\charges_vs_age_by_smoker\\charges_vs_age_by_smoker.png\n",
      "\n",
      "Creating Scatter Plot: Target=charges, Categorical=smoker, Numerical=bmi\n",
      "Scatter Plot saved in: scatter_combinations\\charges_vs_bmi_by_smoker\\charges_vs_bmi_by_smoker.png\n",
      "\n",
      "Creating Scatter Plot: Target=charges, Categorical=smoker, Numerical=children\n",
      "Scatter Plot saved in: scatter_combinations\\charges_vs_children_by_smoker\\charges_vs_children_by_smoker.png\n",
      "\n",
      "Creating Scatter Plot: Target=charges, Categorical=region, Numerical=age\n",
      "Scatter Plot saved in: scatter_combinations\\charges_vs_age_by_region\\charges_vs_age_by_region.png\n",
      "\n",
      "Creating Scatter Plot: Target=charges, Categorical=region, Numerical=bmi\n",
      "Scatter Plot saved in: scatter_combinations\\charges_vs_bmi_by_region\\charges_vs_bmi_by_region.png\n",
      "\n",
      "Creating Scatter Plot: Target=charges, Categorical=region, Numerical=children\n",
      "Scatter Plot saved in: scatter_combinations\\charges_vs_children_by_region\\charges_vs_children_by_region.png\n"
     ]
    }
   ],
   "source": [
    "scatter_plot_combinations(target, df, base_folder=\"scatter_combinations\")"
   ]
  },
  {
   "cell_type": "markdown",
   "metadata": {},
   "source": [
    "#### Correlation matrix"
   ]
  },
  {
   "cell_type": "code",
   "execution_count": 18,
   "metadata": {},
   "outputs": [],
   "source": [
    "import os\n",
    "import matplotlib.pyplot as plt\n",
    "import seaborn as sns\n",
    "import pandas as pd\n",
    "from scipy.stats import pearsonr\n",
    "import numpy as np\n",
    "\n",
    "def correlation_and_significance(df, base_folder=\"correlation_analysis\"):\n",
    "    \"\"\"\n",
    "    Generates a correlation matrix heatmap with significance markers.\n",
    "    Outputs:\n",
    "        - Correlation Matrix with significance points (red = not significant, green = significant)\n",
    "    \n",
    "    Parameters:\n",
    "        df (pd.DataFrame): The DataFrame to analyze.\n",
    "        base_folder (str): Directory to save the analysis images.\n",
    "    \"\"\"\n",
    "    # Ensure the base folder exists\n",
    "    if not os.path.exists(base_folder):\n",
    "        os.makedirs(base_folder)\n",
    "    \n",
    "    # Select only numerical columns\n",
    "    numeric_df = df.select_dtypes(include=['number'])\n",
    "    cols = numeric_df.columns\n",
    "    \n",
    "    # Calculate the correlation matrix\n",
    "    corr_matrix = numeric_df.corr()\n",
    "    \n",
    "    # Initialize p-value matrix\n",
    "    p_values = pd.DataFrame(np.ones((len(cols), len(cols))), columns=cols, index=cols)\n",
    "    \n",
    "    # Calculate p-values for each pair of variables\n",
    "    for row in cols:\n",
    "        for col in cols:\n",
    "            if row != col:\n",
    "                _, p_value = pearsonr(numeric_df[row], numeric_df[col])\n",
    "                p_values.loc[row, col] = p_value\n",
    "    \n",
    "    # --- Plot Correlation Matrix with Significance ---\n",
    "    plt.figure(figsize=(14, 12))\n",
    "    sns.heatmap(corr_matrix, annot=True, cmap='coolwarm', fmt='.2f', linewidths=0.5)\n",
    "    \n",
    "    # Add significance markers\n",
    "    for i in range(len(cols)):\n",
    "        for j in range(len(cols)):\n",
    "            if i != j:  # Skip diagonal\n",
    "                p_val = p_values.iloc[i, j]\n",
    "                x = j + 0.5\n",
    "                y = i + 0.5\n",
    "                \n",
    "                # Significant if p-value < 0.05\n",
    "                if p_val < 0.05:\n",
    "                    plt.plot(x, y, 'o', color='green')  # Green for significant\n",
    "                else:\n",
    "                    plt.plot(x, y, 'o', color='red')    # Red for not significant\n",
    "    \n",
    "    plt.title('Correlation Matrix with Significance (Numerical Variables)', fontsize=18)\n",
    "    plt.xticks(rotation=45)\n",
    "    plt.yticks(rotation=0)\n",
    "    plt.tight_layout()\n",
    "    \n",
    "    # Save Correlation Matrix with Significance\n",
    "    corr_plot_path = os.path.join(base_folder, \"correlation_matrix_significance.png\")\n",
    "    plt.savefig(corr_plot_path, bbox_inches='tight')\n",
    "    plt.close()\n",
    "    \n",
    "    print(f\"Correlation matrix with significance saved in: {corr_plot_path}\")\n"
   ]
  },
  {
   "cell_type": "code",
   "execution_count": 19,
   "metadata": {},
   "outputs": [
    {
     "name": "stdout",
     "output_type": "stream",
     "text": [
      "Correlation matrix with significance saved in: correlation_analysis\\correlation_matrix_significance.png\n"
     ]
    }
   ],
   "source": [
    "# Assuming df is your DataFrame\n",
    "correlation_and_significance(df=df)"
   ]
  },
  {
   "cell_type": "markdown",
   "metadata": {},
   "source": [
    "### Data Cleaning"
   ]
  },
  {
   "cell_type": "markdown",
   "metadata": {},
   "source": [
    "#### Handling missing values"
   ]
  },
  {
   "cell_type": "code",
   "execution_count": 20,
   "metadata": {},
   "outputs": [],
   "source": [
    "def handle_missing_values(df, strategy='default', custom_value=None):\n",
    "    \"\"\"\n",
    "    Handles missing values for any type of variable in a DataFrame.\n",
    "    Outputs:\n",
    "        - DataFrame with imputed missing values.\n",
    "    \n",
    "    Parameters:\n",
    "        df (pd.DataFrame): The DataFrame to handle missing values for.\n",
    "        strategy (str): Imputation strategy. Options:\n",
    "            - 'default': Mean for numerical, Mode for categorical.\n",
    "            - 'mean': Impute numerical with mean.\n",
    "            - 'median': Impute numerical with median.\n",
    "            - 'mode': Impute categorical/numerical with mode.\n",
    "            - 'ffill': Forward fill for categorical.\n",
    "            - 'bfill': Backward fill for categorical.\n",
    "            - 'custom': Fill with a specified custom value (provide custom_value).\n",
    "        custom_value: A specific value to fill in missing values if strategy='custom'.\n",
    "        \n",
    "    Returns:\n",
    "        pd.DataFrame: DataFrame with imputed missing values.\n",
    "    \"\"\"\n",
    "    df_imputed = df.copy()  # Copy the DataFrame to avoid modifying the original\n",
    "    \n",
    "    # Handling Numerical Variables\n",
    "    numeric_cols = df_imputed.select_dtypes(include=['number']).columns\n",
    "    for col in numeric_cols:\n",
    "        if df_imputed[col].isnull().sum() > 0:  # Only handle columns with missing values\n",
    "            print(f\"Handling missing values for Numerical Variable: {col}\")\n",
    "            if strategy == 'mean' or (strategy == 'default' and df_imputed[col].dtype in ['float64', 'int64']):\n",
    "                df_imputed[col].fillna(df_imputed[col].mean(), inplace=True)\n",
    "            elif strategy == 'median':\n",
    "                df_imputed[col].fillna(df_imputed[col].median(), inplace=True)\n",
    "            elif strategy == 'mode':\n",
    "                df_imputed[col].fillna(df_imputed[col].mode()[0], inplace=True)\n",
    "            elif strategy == 'custom' and custom_value is not None:\n",
    "                df_imputed[col].fillna(custom_value, inplace=True)\n",
    "    \n",
    "    # Handling Categorical Variables\n",
    "    categorical_cols = df_imputed.select_dtypes(include=['object', 'category']).columns\n",
    "    for col in categorical_cols:\n",
    "        if df_imputed[col].isnull().sum() > 0:  # Only handle columns with missing values\n",
    "            print(f\"Handling missing values for Categorical Variable: {col}\")\n",
    "            if strategy == 'mode' or (strategy == 'default' and df_imputed[col].dtype == 'object'):\n",
    "                df_imputed[col].fillna(df_imputed[col].mode()[0], inplace=True)\n",
    "            elif strategy == 'ffill':\n",
    "                df_imputed[col].fillna(method='ffill', inplace=True)\n",
    "            elif strategy == 'bfill':\n",
    "                df_imputed[col].fillna(method='bfill', inplace=True)\n",
    "            elif strategy == 'custom' and custom_value is not None:\n",
    "                df_imputed[col].fillna(custom_value, inplace=True)\n",
    "    \n",
    "    return df_imputed\n"
   ]
  },
  {
   "cell_type": "markdown",
   "metadata": {},
   "source": [
    "#### Removing duplicates rows\n"
   ]
  },
  {
   "cell_type": "code",
   "execution_count": 15,
   "metadata": {},
   "outputs": [],
   "source": [
    "import pandas as pd\n",
    "\n",
    "def remove_duplicates(df, subset=None, keep='first', inplace=False):\n",
    "    \"\"\"\n",
    "    Removes duplicate rows from the DataFrame and provides a summary of duplicates.\n",
    "    \n",
    "    Parameters:\n",
    "        df (pd.DataFrame): The DataFrame from which to remove duplicates.\n",
    "        subset (list): List of columns to consider for duplicate checking. \n",
    "                       If None, checks all columns.\n",
    "        keep (str): Which duplicates to keep. Options:\n",
    "            - 'first': Keep the first occurrence (default).\n",
    "            - 'last': Keep the last occurrence.\n",
    "            - 'none': Drop all duplicates.\n",
    "        inplace (bool): If True, modifies the original DataFrame. \n",
    "                        If False, returns a new DataFrame.\n",
    "        \n",
    "    Returns:\n",
    "        pd.DataFrame: DataFrame with duplicates removed (if inplace=False).\n",
    "    \"\"\"\n",
    "    if keep not in ['first', 'last', 'none']:\n",
    "        raise ValueError(\"keep must be one of 'first', 'last', or 'none'.\")\n",
    "    \n",
    "    # Count duplicates before removal\n",
    "    total_rows = len(df)\n",
    "    duplicate_rows = df.duplicated(subset=subset, keep=False).sum()\n",
    "    percentage_duplicates = (duplicate_rows / total_rows) * 100\n",
    "    \n",
    "    print(f\"Total Rows: {total_rows}\")\n",
    "    print(f\"Duplicate Rows: {duplicate_rows} ({percentage_duplicates:.2f}%)\")\n",
    "    \n",
    "    if duplicate_rows == 0:\n",
    "        print(\"No duplicates found. No rows removed.\")\n",
    "        return df if not inplace else None\n",
    "    \n",
    "    # Handle duplicate removal\n",
    "    if keep == 'none':\n",
    "        # Drop all duplicates and keep only unique rows\n",
    "        duplicated_mask = df.duplicated(subset=subset, keep=False)\n",
    "        result = df[~duplicated_mask]\n",
    "    else:\n",
    "        # Use pandas built-in drop_duplicates\n",
    "        result = df.drop_duplicates(subset=subset, keep=keep)\n",
    "    \n",
    "    # Count duplicates after removal\n",
    "    remaining_rows = len(result)\n",
    "    rows_removed = total_rows - remaining_rows\n",
    "    \n",
    "    print(f\"Rows Removed: {rows_removed}\")\n",
    "    print(f\"Remaining Rows: {remaining_rows}\")\n",
    "    \n",
    "    if rows_removed > 0:\n",
    "        print(\"Duplicates successfully removed.\")\n",
    "    else:\n",
    "        print(\"No duplicates were removed.\")\n",
    "    \n",
    "    if inplace:\n",
    "        df.drop_duplicates(subset=subset, keep=keep, inplace=True)\n",
    "    else:\n",
    "        return result\n"
   ]
  },
  {
   "cell_type": "code",
   "execution_count": 16,
   "metadata": {},
   "outputs": [
    {
     "name": "stdout",
     "output_type": "stream",
     "text": [
      "Total Rows: 1338\n",
      "Duplicate Rows: 2 (0.15%)\n",
      "Rows Removed: 1\n",
      "Remaining Rows: 1337\n",
      "Duplicates successfully removed.\n"
     ]
    }
   ],
   "source": [
    "dm=remove_duplicates(df)"
   ]
  },
  {
   "cell_type": "markdown",
   "metadata": {},
   "source": [
    "#### Handles outliers"
   ]
  },
  {
   "cell_type": "code",
   "execution_count": 18,
   "metadata": {},
   "outputs": [],
   "source": [
    "def handle_outliers(df, numerical_columns=None, method='IQR', verbose=True):\n",
    "    \"\"\"\n",
    "    Handles outliers in continuous numerical variables using the specified method.\n",
    "    \n",
    "    Parameters:\n",
    "        df (pd.DataFrame): The DataFrame to process.\n",
    "        numerical_columns (list): List of numerical columns to check for outliers. If None, auto-selects all numerical columns.\n",
    "        method (str): Method to handle outliers ('IQR' or 'Z-Score'). Default is 'IQR'.\n",
    "        verbose (bool): If True, displays outlier statistics.\n",
    "        \n",
    "    Returns:\n",
    "        pd.DataFrame: DataFrame with outliers handled.\n",
    "    \"\"\"\n",
    "    # Select numerical columns if not provided\n",
    "    if numerical_columns is None:\n",
    "        numerical_columns = df.select_dtypes(include=['number']).columns\n",
    "    \n",
    "    # Iterate over each numerical column\n",
    "    for col in numerical_columns:\n",
    "        if col in df.columns:\n",
    "            if method == 'IQR':\n",
    "                # Calculate Q1, Q3, and IQR\n",
    "                Q1 = df[col].quantile(0.25)\n",
    "                Q3 = df[col].quantile(0.75)\n",
    "                IQR = Q3 - Q1\n",
    "                lower_bound = Q1 - 1.5 * IQR\n",
    "                upper_bound = Q3 + 1.5 * IQR\n",
    "                \n",
    "                # Count and handle outliers\n",
    "                outliers = ((df[col] < lower_bound) | (df[col] > upper_bound))\n",
    "                num_outliers = outliers.sum()\n",
    "                \n",
    "                # Option 1: Capping\n",
    "                df.loc[df[col] < lower_bound, col] = lower_bound\n",
    "                df.loc[df[col] > upper_bound, col] = upper_bound\n",
    "                \n",
    "                if verbose:\n",
    "                    print(f\"[INFO] Outliers handled in '{col}' using IQR:\")\n",
    "                    print(f\"         - Number of Outliers: {num_outliers}\")\n",
    "                    print(f\"         - Lower Bound: {lower_bound}, Upper Bound: {upper_bound}\")\n",
    "            \n",
    "            elif method == 'Z-Score':\n",
    "                # Alternative method (if needed)\n",
    "                mean = df[col].mean()\n",
    "                std_dev = df[col].std()\n",
    "                threshold = 3  # Standard deviation threshold\n",
    "                \n",
    "                # Count and handle outliers\n",
    "                outliers = ((df[col] < (mean - threshold * std_dev)) | (df[col] > (mean + threshold * std_dev)))\n",
    "                num_outliers = outliers.sum()\n",
    "                \n",
    "                # Option 1: Capping\n",
    "                lower_bound = mean - threshold * std_dev\n",
    "                upper_bound = mean + threshold * std_dev\n",
    "                df.loc[df[col] < lower_bound, col] = lower_bound\n",
    "                df.loc[df[col] > upper_bound, col] = upper_bound\n",
    "                \n",
    "                if verbose:\n",
    "                    print(f\"[INFO] Outliers handled in '{col}' using Z-Score:\")\n",
    "                    print(f\"         - Number of Outliers: {num_outliers}\")\n",
    "                    print(f\"         - Lower Bound: {lower_bound}, Upper Bound: {upper_bound}\")\n",
    "    \n",
    "    return df"
   ]
  },
  {
   "cell_type": "code",
   "execution_count": 62,
   "metadata": {},
   "outputs": [
    {
     "name": "stdout",
     "output_type": "stream",
     "text": [
      "[INFO] Outliers handled in 'age' using IQR:\n",
      "         - Number of Outliers: 0\n",
      "         - Lower Bound: -9.0, Upper Bound: 87.0\n",
      "[INFO] Outliers handled in 'sex' using IQR:\n",
      "         - Number of Outliers: 0\n",
      "         - Lower Bound: -1.5, Upper Bound: 2.5\n",
      "[INFO] Outliers handled in 'bmi' using IQR:\n",
      "         - Number of Outliers: 0\n",
      "         - Lower Bound: 13.674999999999994, Upper Bound: 47.31500000000001\n",
      "[INFO] Outliers handled in 'children' using IQR:\n",
      "         - Number of Outliers: 0\n",
      "         - Lower Bound: -3.0, Upper Bound: 5.0\n",
      "[INFO] Outliers handled in 'smoker' using IQR:\n",
      "         - Number of Outliers: 274\n",
      "         - Lower Bound: 0.0, Upper Bound: 0.0\n",
      "[INFO] Outliers handled in 'region' using IQR:\n",
      "         - Number of Outliers: 0\n",
      "         - Lower Bound: -0.5, Upper Bound: 3.5\n",
      "[INFO] Outliers handled in 'charges' using IQR:\n",
      "         - Number of Outliers: 0\n",
      "         - Lower Bound: -13120.716174999998, Upper Bound: 34524.777625\n"
     ]
    },
    {
     "name": "stderr",
     "output_type": "stream",
     "text": [
      "C:\\Users\\ASUS TUF\\AppData\\Local\\Temp\\ipykernel_30752\\2635347732.py:34: FutureWarning: Setting an item of incompatible dtype is deprecated and will raise an error in a future version of pandas. Value '-1.5' has dtype incompatible with int64, please explicitly cast to a compatible dtype first.\n",
      "  df.loc[df[col] < lower_bound, col] = lower_bound\n",
      "C:\\Users\\ASUS TUF\\AppData\\Local\\Temp\\ipykernel_30752\\2635347732.py:34: FutureWarning: Setting an item of incompatible dtype is deprecated and will raise an error in a future version of pandas. Value '-0.5' has dtype incompatible with int64, please explicitly cast to a compatible dtype first.\n",
      "  df.loc[df[col] < lower_bound, col] = lower_bound\n"
     ]
    }
   ],
   "source": [
    "dc=handle_outliers(dm, numerical_columns=None, method='IQR', verbose=True)"
   ]
  },
  {
   "cell_type": "markdown",
   "metadata": {},
   "source": [
    "#### Data type conversions"
   ]
  },
  {
   "cell_type": "code",
   "execution_count": 20,
   "metadata": {},
   "outputs": [
    {
     "name": "stdout",
     "output_type": "stream",
     "text": [
      "<class 'pandas.core.frame.DataFrame'>\n",
      "RangeIndex: 1338 entries, 0 to 1337\n",
      "Data columns (total 7 columns):\n",
      " #   Column    Non-Null Count  Dtype  \n",
      "---  ------    --------------  -----  \n",
      " 0   age       1338 non-null   int64  \n",
      " 1   sex       1338 non-null   object \n",
      " 2   bmi       1338 non-null   float64\n",
      " 3   children  1338 non-null   int64  \n",
      " 4   smoker    1338 non-null   object \n",
      " 5   region    1338 non-null   object \n",
      " 6   charges   1338 non-null   float64\n",
      "dtypes: float64(2), int64(2), object(3)\n",
      "memory usage: 73.3+ KB\n"
     ]
    }
   ],
   "source": [
    "df.info()"
   ]
  },
  {
   "cell_type": "code",
   "execution_count": 21,
   "metadata": {},
   "outputs": [],
   "source": [
    "def label_encode_columns(df, columns=['sex', 'smoker', 'region'], verbose=True):\n",
    "    \"\"\"\n",
    "    Performs Label Encoding on specified categorical columns.\n",
    "    \n",
    "    Parameters:\n",
    "        df (pd.DataFrame): The DataFrame to encode.\n",
    "        columns (list): List of column names to be label encoded.\n",
    "        verbose (bool): If True, displays the label mappings.\n",
    "        \n",
    "    Returns:\n",
    "        pd.DataFrame: DataFrame with encoded columns.\n",
    "    \"\"\"\n",
    "    # Loop through the specified columns and encode them\n",
    "    for col in columns:\n",
    "        if col in df.columns:\n",
    "            le = LabelEncoder()\n",
    "            df[col] = le.fit_transform(df[col])\n",
    "            \n",
    "            # Display label mapping\n",
    "            if verbose:\n",
    "                mapping = dict(zip(le.classes_, le.transform(le.classes_)))\n",
    "                print(f\"\\n[INFO] Label Encoding for '{col}': {mapping}\")\n",
    "        else:\n",
    "            print(f\"[WARNING] Column '{col}' not found in DataFrame.\")\n",
    "    \n",
    "    return df\n",
    "\n"
   ]
  },
  {
   "cell_type": "code",
   "execution_count": 36,
   "metadata": {},
   "outputs": [
    {
     "name": "stdout",
     "output_type": "stream",
     "text": [
      "\n",
      "[INFO] Label Encoding for 'sex': {0: 0, 1: 1}\n",
      "\n",
      "[INFO] Label Encoding for 'smoker': {0: 0, 1: 1}\n",
      "\n",
      "[INFO] Label Encoding for 'region': {0: 0, 1: 1, 2: 2, 3: 3}\n"
     ]
    },
    {
     "name": "stderr",
     "output_type": "stream",
     "text": [
      "C:\\Users\\ASUS TUF\\AppData\\Local\\Temp\\ipykernel_30752\\3442008357.py:17: SettingWithCopyWarning: \n",
      "A value is trying to be set on a copy of a slice from a DataFrame.\n",
      "Try using .loc[row_indexer,col_indexer] = value instead\n",
      "\n",
      "See the caveats in the documentation: https://pandas.pydata.org/pandas-docs/stable/user_guide/indexing.html#returning-a-view-versus-a-copy\n",
      "  df[col] = le.fit_transform(df[col])\n",
      "C:\\Users\\ASUS TUF\\AppData\\Local\\Temp\\ipykernel_30752\\3442008357.py:17: SettingWithCopyWarning: \n",
      "A value is trying to be set on a copy of a slice from a DataFrame.\n",
      "Try using .loc[row_indexer,col_indexer] = value instead\n",
      "\n",
      "See the caveats in the documentation: https://pandas.pydata.org/pandas-docs/stable/user_guide/indexing.html#returning-a-view-versus-a-copy\n",
      "  df[col] = le.fit_transform(df[col])\n",
      "C:\\Users\\ASUS TUF\\AppData\\Local\\Temp\\ipykernel_30752\\3442008357.py:17: SettingWithCopyWarning: \n",
      "A value is trying to be set on a copy of a slice from a DataFrame.\n",
      "Try using .loc[row_indexer,col_indexer] = value instead\n",
      "\n",
      "See the caveats in the documentation: https://pandas.pydata.org/pandas-docs/stable/user_guide/indexing.html#returning-a-view-versus-a-copy\n",
      "  df[col] = le.fit_transform(df[col])\n"
     ]
    }
   ],
   "source": [
    "dcc=label_encode_columns(dm, columns=['sex', 'smoker', 'region'], verbose=True)\n"
   ]
  },
  {
   "cell_type": "code",
   "execution_count": 53,
   "metadata": {},
   "outputs": [],
   "source": [
    "from sklearn.model_selection import train_test_split\n",
    "x= dm.drop(columns='charges')\n",
    "y= dm['charges']"
   ]
  },
  {
   "cell_type": "code",
   "execution_count": 43,
   "metadata": {},
   "outputs": [],
   "source": [
    "from sklearn.pipeline import Pipeline\n",
    "from sklearn.preprocessing import StandardScaler,MinMaxScaler\n",
    "from sklearn.impute import SimpleImputer\n",
    "from sklearn.preprocessing import OneHotEncoder,OrdinalEncoder\n",
    "from sklearn.decomposition import PCA"
   ]
  },
  {
   "cell_type": "code",
   "execution_count": 54,
   "metadata": {},
   "outputs": [],
   "source": [
    "# Specify the columns you want to scale\n",
    "columns_to_scale = ['age', 'bmi']\n",
    "\n",
    "# Initialize the scaler\n",
    "scaler = StandardScaler()\n",
    "\n",
    "# Fit and transform only the selected columns\n",
    "x[columns_to_scale] = scaler.fit_transform(x[columns_to_scale])"
   ]
  },
  {
   "cell_type": "code",
   "execution_count": 55,
   "metadata": {},
   "outputs": [],
   "source": [
    "x_t,x_te,y_t,y_te= train_test_split(x,y,test_size=.25,random_state=20)"
   ]
  },
  {
   "cell_type": "code",
   "execution_count": null,
   "metadata": {},
   "outputs": [],
   "source": [
    "# scaler = StandardScaler()\n",
    "# X_train_scaler = scaler.fit_transform(x_t)\n",
    "# X_test_scaler = scaler.fit_transform(x_te)"
   ]
  },
  {
   "cell_type": "code",
   "execution_count": 56,
   "metadata": {},
   "outputs": [],
   "source": [
    "from sklearn.model_selection import train_test_split\n",
    "from sklearn.linear_model import LinearRegression\n",
    "from sklearn.metrics import mean_squared_error, mean_absolute_error, r2_score\n",
    "from sklearn.preprocessing import StandardScaler\n",
    "import time\n",
    "import numpy as np"
   ]
  },
  {
   "cell_type": "code",
   "execution_count": 57,
   "metadata": {},
   "outputs": [
    {
     "name": "stdout",
     "output_type": "stream",
     "text": [
      "Linear Regression Model Performance:\n",
      "\n",
      "Training Set:\n",
      "  - RMSE: 5245.4175\n",
      "  - MAE: 3490.1331\n",
      "  - R^2 Score: 0.7393\n",
      "  - Training Time: 0.0022 seconds\n",
      "\n",
      "Testing Set:\n",
      "  - RMSE: 4688.8158\n",
      "  - MAE: 3186.2372\n",
      "  - R^2 Score: 0.7720\n",
      "  - Prediction Time: 0.00247 seconds\n"
     ]
    }
   ],
   "source": [
    "# Initialize Linear Regression model\n",
    "lr = LinearRegression()\n",
    "\n",
    "# Timing the training process\n",
    "training_start = time.perf_counter()\n",
    "model = lr.fit(x_t, y_t)\n",
    "training_end = time.perf_counter()\n",
    "\n",
    "# Timing the prediction process\n",
    "prediction_start = time.perf_counter()\n",
    "y_pred_train = model.predict(x_t)\n",
    "y_pred_test = model.predict(x_te)\n",
    "prediction_end = time.perf_counter()\n",
    "\n",
    "# Calculate KPIs\n",
    "# Root Mean Squared Error (RMSE)\n",
    "rmse_train = np.sqrt(mean_squared_error(y_t, y_pred_train))\n",
    "rmse_test = np.sqrt(mean_squared_error(y_te, y_pred_test))\n",
    "\n",
    "# Mean Absolute Error (MAE)\n",
    "mae_train = mean_absolute_error(y_t, y_pred_train)\n",
    "mae_test = mean_absolute_error(y_te, y_pred_test)\n",
    "\n",
    "# R-squared score\n",
    "r2_train = r2_score(y_t, y_pred_train)\n",
    "r2_test = r2_score(y_te, y_pred_test)\n",
    "\n",
    "# Time metrics\n",
    "train_time = training_end - training_start\n",
    "prediction_time = prediction_end - prediction_start\n",
    "\n",
    "# Output metrics\n",
    "print(\"Linear Regression Model Performance:\")\n",
    "print(\"\\nTraining Set:\")\n",
    "print(f\"  - RMSE: {rmse_train:.4f}\")\n",
    "print(f\"  - MAE: {mae_train:.4f}\")\n",
    "print(f\"  - R^2 Score: {r2_train:.4f}\")\n",
    "print(f\"  - Training Time: {train_time:.4f} seconds\")\n",
    "\n",
    "print(\"\\nTesting Set:\")\n",
    "print(f\"  - RMSE: {rmse_test:.4f}\")\n",
    "print(f\"  - MAE: {mae_test:.4f}\")\n",
    "print(f\"  - R^2 Score: {r2_test:.4f}\")\n",
    "print(f\"  - Prediction Time: {prediction_time:.5f} seconds\")"
   ]
  },
  {
   "cell_type": "markdown",
   "metadata": {},
   "source": [
    "1. Root Mean Squared Error (RMSE):\n",
    "Definition: RMSE measures the average magnitude of the error. It gives higher weight to larger errors due to the squaring, making it sensitive to outliers.\n",
    "Value: \n",
    "9208.3435\n",
    "9208.3435\n",
    "Interpretation:\n",
    "On average, the model's predictions deviate from the actual values by about 9208 units.\n",
    "If your target variable is in dollars, this means the predictions are off by around $9208 on average.\n",
    "Lower RMSE indicates a better fit.\n",
    "Comparison:\n",
    "Compare with the standard deviation of the target variable (y_te). If RMSE is close to or larger than the standard deviation, the model isn't performing well.\n",
    "Compare with the mean of the target variable:\n",
    "python\n",
    "Copy\n",
    "Edit\n",
    "print(y_te.mean())\n",
    "print(y_te.std())\n",
    "If the RMSE is a large percentage of the mean, the model might not be accurate enough for practical use."
   ]
  },
  {
   "cell_type": "code",
   "execution_count": 58,
   "metadata": {},
   "outputs": [
    {
     "data": {
      "image/png": "[encoded data removed]",
      "text/plain": [
       "<Figure size 1000x600 with 1 Axes>"
      ]
     },
     "metadata": {},
     "output_type": "display_data"
    }
   ],
   "source": [
    "import matplotlib.pyplot as plt\n",
    "import seaborn as sns\n",
    "\n",
    "# Residuals\n",
    "residuals = y_te - y_pred_test\n",
    "\n",
    "# Plot Residuals\n",
    "plt.figure(figsize=(10,6))\n",
    "sns.histplot(residuals, bins=30, kde=True, color='purple')\n",
    "plt.title(\"Distribution of Residuals\")\n",
    "plt.xlabel(\"Residuals\")\n",
    "plt.ylabel(\"Frequency\")\n",
    "plt.show()"
   ]
  },
  {
   "cell_type": "code",
   "execution_count": 59,
   "metadata": {},
   "outputs": [
    {
     "name": "stdout",
     "output_type": "stream",
     "text": [
      "\n",
      "Ridge Regression Performance:\n",
      "\n",
      "Training Set:\n",
      "  - RMSE: 5245.4198\n",
      "  - MAE: 3491.2057\n",
      "  - R^2 Score: 0.7393\n",
      "  - Training Time: 0.1319 seconds\n",
      "\n",
      "Testing Set:\n",
      "  - RMSE: 4688.8069\n",
      "  - MAE: 3187.0326\n",
      "  - R^2 Score: 0.7720\n",
      "\n",
      "Best Alpha for Ridge: 0.1\n",
      "\n",
      "Lasso Regression Performance:\n",
      "\n",
      "Training Set:\n",
      "  - RMSE: 5245.4189\n",
      "  - MAE: 3490.6001\n",
      "  - R^2 Score: 0.7393\n",
      "  - Training Time: 0.1019 seconds\n",
      "\n",
      "Testing Set:\n",
      "  - RMSE: 4688.6362\n",
      "  - MAE: 3186.3162\n",
      "  - R^2 Score: 0.7720\n",
      "\n",
      "Best Alpha for Lasso: 1\n"
     ]
    }
   ],
   "source": [
    "from sklearn.linear_model import Ridge, Lasso\n",
    "from sklearn.model_selection import GridSearchCV\n",
    "from sklearn.metrics import mean_squared_error, mean_absolute_error, r2_score\n",
    "import numpy as np\n",
    "import time\n",
    "\n",
    "# Define parameter grid for alpha values\n",
    "param_grid = {'alpha': [0.01, 0.1, 1, 10, 100, 1000]}\n",
    "\n",
    "# Ridge Regression Hyperparameter Tuning\n",
    "ridge = Ridge()\n",
    "ridge_grid = GridSearchCV(ridge, param_grid, cv=5, scoring='neg_mean_squared_error')\n",
    "ridge_start = time.perf_counter()\n",
    "ridge_grid.fit(x_t, y_t)\n",
    "ridge_end = time.perf_counter()\n",
    "\n",
    "# Best Ridge Model\n",
    "best_ridge = ridge_grid.best_estimator_\n",
    "y_pred_ridge_train = best_ridge.predict(x_t)\n",
    "y_pred_ridge_test = best_ridge.predict(x_te)\n",
    "\n",
    "# Lasso Regression Hyperparameter Tuning\n",
    "lasso = Lasso(max_iter=10000)\n",
    "lasso_grid = GridSearchCV(lasso, param_grid, cv=5, scoring='neg_mean_squared_error')\n",
    "lasso_start = time.perf_counter()\n",
    "lasso_grid.fit(x_t, y_t)\n",
    "lasso_end = time.perf_counter()\n",
    "\n",
    "# Best Lasso Model\n",
    "best_lasso = lasso_grid.best_estimator_\n",
    "y_pred_lasso_train = best_lasso.predict(x_t)\n",
    "y_pred_lasso_test = best_lasso.predict(x_te)\n",
    "\n",
    "# Function to Calculate and Print KPIs\n",
    "def print_metrics(y_true_train, y_pred_train, y_true_test, y_pred_test, model_name, train_time):\n",
    "    rmse_train = np.sqrt(mean_squared_error(y_true_train, y_pred_train))\n",
    "    rmse_test = np.sqrt(mean_squared_error(y_true_test, y_pred_test))\n",
    "    mae_train = mean_absolute_error(y_true_train, y_pred_train)\n",
    "    mae_test = mean_absolute_error(y_true_test, y_pred_test)\n",
    "    r2_train = r2_score(y_true_train, y_pred_train)\n",
    "    r2_test = r2_score(y_true_test, y_pred_test)\n",
    "\n",
    "    print(f\"\\n{model_name} Performance:\")\n",
    "    print(\"\\nTraining Set:\")\n",
    "    print(f\"  - RMSE: {rmse_train:.4f}\")\n",
    "    print(f\"  - MAE: {mae_train:.4f}\")\n",
    "    print(f\"  - R^2 Score: {r2_train:.4f}\")\n",
    "    print(f\"  - Training Time: {train_time:.4f} seconds\")\n",
    "\n",
    "    print(\"\\nTesting Set:\")\n",
    "    print(f\"  - RMSE: {rmse_test:.4f}\")\n",
    "    print(f\"  - MAE: {mae_test:.4f}\")\n",
    "    print(f\"  - R^2 Score: {r2_test:.4f}\")\n",
    "\n",
    "# Print Metrics for Ridge\n",
    "print_metrics(y_t, y_pred_ridge_train, y_te, y_pred_ridge_test, \n",
    "              \"Ridge Regression\", ridge_end - ridge_start)\n",
    "print(\"\\nBest Alpha for Ridge:\", ridge_grid.best_params_['alpha'])\n",
    "\n",
    "# Print Metrics for Lasso\n",
    "print_metrics(y_t, y_pred_lasso_train, y_te, y_pred_lasso_test, \n",
    "              \"Lasso Regression\", lasso_end - lasso_start)\n",
    "print(\"\\nBest Alpha for Lasso:\", lasso_grid.best_params_['alpha'])\n"
   ]
  },
  {
   "cell_type": "code",
   "execution_count": 60,
   "metadata": {},
   "outputs": [],
   "source": [
    "from sklearn.tree import DecisionTreeRegressor\n",
    "from xgboost import XGBRegressor"
   ]
  },
  {
   "cell_type": "code",
   "execution_count": 61,
   "metadata": {},
   "outputs": [
    {
     "name": "stdout",
     "output_type": "stream",
     "text": [
      "Decision Tree Regressor Model Performance:\n",
      "\n",
      "Training Set:\n",
      "  - RMSE: 510.7002\n",
      "  - MAE: 31.5794\n",
      "  - R^2 Score: 0.9975\n",
      "  - Training Time: 0.0046 seconds\n",
      "\n",
      "Testing Set:\n",
      "  - RMSE: 6272.6221\n",
      "  - MAE: 2897.4734\n",
      "  - R^2 Score: 0.5920\n",
      "  - Prediction Time: 0.00196 seconds\n"
     ]
    }
   ],
   "source": [
    "# Initialize Decision Tree Regressor with regularization\n",
    "dr = DecisionTreeRegressor(\n",
    "             # Ensure reproducibility\n",
    ")\n",
    "\n",
    "# Timing the training process\n",
    "training_start = time.perf_counter()\n",
    "model = dr.fit(x_t, y_t)\n",
    "training_end = time.perf_counter()\n",
    "\n",
    "# Timing the prediction process\n",
    "prediction_start = time.perf_counter()\n",
    "y_pred_train = model.predict(x_t)\n",
    "y_pred_test = model.predict(x_te)\n",
    "prediction_end = time.perf_counter()\n",
    "\n",
    "# Calculate KPIs\n",
    "# Root Mean Squared Error (RMSE)\n",
    "rmse_train = np.sqrt(mean_squared_error(y_t, y_pred_train))\n",
    "rmse_test = np.sqrt(mean_squared_error(y_te, y_pred_test))\n",
    "\n",
    "# Mean Absolute Error (MAE)\n",
    "mae_train = mean_absolute_error(y_t, y_pred_train)\n",
    "mae_test = mean_absolute_error(y_te, y_pred_test)\n",
    "\n",
    "# R-squared score\n",
    "r2_train =  r2_score(y_t, y_pred_train)\n",
    "r2_test = r2_score(y_te, y_pred_test)\n",
    "\n",
    "# Time metrics\n",
    "train_time = training_end - training_start\n",
    "prediction_time = prediction_end - prediction_start\n",
    "\n",
    "# Output metrics\n",
    "print(\"Decision Tree Regressor Model Performance:\")\n",
    "print(\"\\nTraining Set:\")\n",
    "print(f\"  - RMSE: {rmse_train:.4f}\")\n",
    "print(f\"  - MAE: {mae_train:.4f}\")\n",
    "print(f\"  - R^2 Score: {r2_train:.4f}\")\n",
    "print(f\"  - Training Time: {train_time:.4f} seconds\")\n",
    "\n",
    "print(\"\\nTesting Set:\")\n",
    "print(f\"  - RMSE: {rmse_test:.4f}\")\n",
    "print(f\"  - MAE: {mae_test:.4f}\")\n",
    "print(f\"  - R^2 Score: {r2_test:.4f}\")\n",
    "print(f\"  - Prediction Time: {prediction_time:.5f} seconds\")\n"
   ]
  }
 ],
 "metadata": {
  "kernelspec": {
   "display_name": "Python 3",
   "language": "python",
   "name": "python3"
  },
  "language_info": {
   "codemirror_mode": {
    "name": "ipython",
    "version": 3
   },
   "file_extension": ".py",
   "mimetype": "text/x-python",
   "name": "python",
   "nbconvert_exporter": "python",
   "pygments_lexer": "ipython3",
   "version": "3.12.6"
  }
 },
 "nbformat": 4,
 "nbformat_minor": 2
}
